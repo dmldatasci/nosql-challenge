{
 "cells": [
  {
   "cell_type": "markdown",
   "id": "613a4010",
   "metadata": {},
   "source": [
    "# Eat Safe, Love – NoSQL Analysis"
   ]
  },
  {
   "cell_type": "code",
   "execution_count": null,
   "id": "28eb2226",
   "metadata": {},
   "outputs": [],
   "source": []
  }
 ],
 "metadata": {
  "kernelspec": {
   "display_name": "Python 3 (ipykernel)",
   "language": "python",
   "name": "python3"
  },
  "language_info": {
   "codemirror_mode": {
    "name": "ipython",
    "version": 3
   },
   "file_extension": ".py",
   "mimetype": "text/x-python",
   "name": "python",
   "nbconvert_exporter": "python",
   "pygments_lexer": "ipython3",
   "version": "3.9.12"
  }
 },
 "nbformat": 4,
 "nbformat_minor": 5
}
